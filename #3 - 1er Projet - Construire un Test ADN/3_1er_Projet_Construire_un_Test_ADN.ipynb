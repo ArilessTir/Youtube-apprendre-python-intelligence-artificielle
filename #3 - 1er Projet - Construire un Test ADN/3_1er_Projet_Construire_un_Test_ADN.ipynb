{
  "nbformat": 4,
  "nbformat_minor": 0,
  "metadata": {
    "colab": {
      "name": "#3 - 1er Projet - Construire un Test ADN",
      "provenance": []
    },
    "kernelspec": {
      "name": "python3",
      "display_name": "Python 3"
    }
  },
  "cells": [
    {
      "cell_type": "markdown",
      "metadata": {
        "id": "yaQDO3DWIMEF",
        "colab_type": "text"
      },
      "source": [
        "# https://colab.research.google.com/"
      ]
    },
    {
      "cell_type": "markdown",
      "metadata": {
        "id": "6n4d7u3TIjmk",
        "colab_type": "text"
      },
      "source": [
        "# Apprendre à coder en Python pour l'Intelligence Artificielle\n",
        "## Episode 3 - Construire un Test ADN\n",
        "\n",
        "<p align=\"center\">\n",
        "<a href=\"https://youtu.be/8fCtWNnBNFc\" target=\"_blank\" ><img  src=\"https://raw.githubusercontent.com/anisayari/Youtube-apprendre-python-intelligence-artificielle/master/%232%20-%20Programmation%20Objet%20et%20Fonctionnelle/serie-cover-2.jpg\n",
        "\" width=\"800\" height=\"auto\"/></a>\n",
        "</p>"
      ]
    },
    {
      "cell_type": "markdown",
      "metadata": {
        "id": "cwkHvjoiImqs",
        "colab_type": "text"
      },
      "source": [
        "## Construction de notre population"
      ]
    },
    {
      "cell_type": "code",
      "metadata": {
        "id": "CMDXiL2yILMS",
        "colab_type": "code",
        "colab": {}
      },
      "source": [
        ""
      ],
      "execution_count": 0,
      "outputs": []
    },
    {
      "cell_type": "code",
      "metadata": {
        "id": "S53kwM8oIl-a",
        "colab_type": "code",
        "colab": {}
      },
      "source": [
        ""
      ],
      "execution_count": 0,
      "outputs": []
    },
    {
      "cell_type": "markdown",
      "metadata": {
        "id": "CWr1vkEVIsVS",
        "colab_type": "text"
      },
      "source": [
        "## Construction de notre logique de Test"
      ]
    },
    {
      "cell_type": "code",
      "metadata": {
        "id": "M_xrb1nyIiq4",
        "colab_type": "code",
        "colab": {}
      },
      "source": [
        ""
      ],
      "execution_count": 0,
      "outputs": []
    },
    {
      "cell_type": "code",
      "metadata": {
        "id": "p3qGKssEILPU",
        "colab_type": "code",
        "colab": {}
      },
      "source": [
        ""
      ],
      "execution_count": 0,
      "outputs": []
    }
  ]
}