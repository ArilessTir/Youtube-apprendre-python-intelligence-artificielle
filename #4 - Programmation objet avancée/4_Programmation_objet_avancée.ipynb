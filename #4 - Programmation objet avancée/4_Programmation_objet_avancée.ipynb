{
  "nbformat": 4,
  "nbformat_minor": 0,
  "metadata": {
    "colab": {
      "name": "#4 - Programmation objet avancée",
      "provenance": [],
      "collapsed_sections": []
    },
    "kernelspec": {
      "name": "python3",
      "display_name": "Python 3"
    }
  },
  "cells": [
    {
      "cell_type": "markdown",
      "metadata": {
        "id": "a2c7ZxxerDat",
        "colab_type": "text"
      },
      "source": [
        "\n",
        "# https://colab.research.google.com/\n",
        "---\n",
        "\n"
      ]
    },
    {
      "cell_type": "markdown",
      "metadata": {
        "id": "HzCReroprCAg",
        "colab_type": "text"
      },
      "source": [
        "# Apprendre à coder en Python pour l'Intelligence Artificielle\n",
        "Episode 4 - Programmation objet avancée\n",
        "\n",
        "<p align=\"center\">\n",
        "<a href=\"https://youtu.be/_J80GQoVT-4\" target=\"_blank\" ><img  src=\"https://github.com/anisayari/Youtube-apprendre-python-intelligence-artificielle/blob/master/%234%20-%20Programmation%20objet%20avanc%C3%A9e/cover-serie-4.png?raw=true\" width=\"800\" height=\"auto\"/></a>\n",
        "</p>"
      ]
    },
    {
      "cell_type": "markdown",
      "metadata": {
        "id": "BI03F4Bosdbo",
        "colab_type": "text"
      },
      "source": [
        "# Encapsulation\n",
        "Empêcher l'accées aux données d'un objet par un autre moyen que ceux définit."
      ]
    },
    {
      "cell_type": "code",
      "metadata": {
        "id": "wLWIF-Tcs1d7",
        "colab_type": "code",
        "colab": {
          "base_uri": "https://localhost:8080/",
          "height": 34
        },
        "outputId": "41896ce1-36ae-45a0-e17a-88a1596e6dc9"
      },
      "source": [
        "## definir un attribut privé : __ATTRIBUT\n",
        "\n",
        "\n"
      ],
      "execution_count": 11,
      "outputs": [
        {
          "output_type": "execute_result",
          "data": {
            "text/plain": [
              "<__main__.Person at 0x7fb962f1a6a0>"
            ]
          },
          "metadata": {
            "tags": []
          },
          "execution_count": 11
        }
      ]
    },
    {
      "cell_type": "code",
      "metadata": {
        "id": "YqHSbAF-tLC4",
        "colab_type": "code",
        "colab": {
          "base_uri": "https://localhost:8080/",
          "height": 34
        },
        "outputId": "fd5fe869-f906-45a4-9031-61dad93a9b78"
      },
      "source": [
        "## Bonne pratique (coucou Java) définir des setteurs et getteurs : set_attribut(self,attribut)\n",
        "\n",
        "\n"
      ],
      "execution_count": 12,
      "outputs": [
        {
          "output_type": "stream",
          "text": [
            "1\n"
          ],
          "name": "stdout"
        }
      ]
    },
    {
      "cell_type": "markdown",
      "metadata": {
        "id": "2lhwCTsY0bN4",
        "colab_type": "text"
      },
      "source": [
        "# Héritage"
      ]
    },
    {
      "cell_type": "code",
      "metadata": {
        "id": "rEClPl7I0znf",
        "colab_type": "code",
        "colab": {}
      },
      "source": [
        "# super().__init__(), issubclass(subclass,class) et isinstance(instance, class)\n",
        "\n",
        "\n"
      ],
      "execution_count": 0,
      "outputs": []
    },
    {
      "cell_type": "markdown",
      "metadata": {
        "id": "txQ99RUUzMPK",
        "colab_type": "text"
      },
      "source": [
        "# Methode et attributs d'instance, de classe, static"
      ]
    },
    {
      "cell_type": "code",
      "metadata": {
        "id": "wHm0o4Wxt2FK",
        "colab_type": "code",
        "colab": {}
      },
      "source": [
        "## attributs de class (définir un attribut dans la class et pas dans le constructeur)\n",
        "\n"
      ],
      "execution_count": 0,
      "outputs": []
    },
    {
      "cell_type": "code",
      "metadata": {
        "id": "IgR2pZ29uIfR",
        "colab_type": "code",
        "colab": {}
      },
      "source": [
        "## Methode de class @classmethod Point à la classe et non pas à l'instance de la classe (ie Objet = instance d'une classe)\n",
        "## Méthode Static Permet de créer une fonction rangé dans une class à la place d'un module\n",
        "\n",
        "class Person:\n",
        "    x = 0\n",
        "    \n",
        "    def __init__(self):\n",
        "        pass\n",
        "\n",
        "    @classmethod\n",
        "    def count(cls):\n",
        "        cls.x = cls.x+1\n",
        "        return 'class method called', cls.x\n",
        "\n",
        "    @staticmethod\n",
        "    def static():\n",
        "        return 'static method called'\n",
        "\n",
        "    #count = classmethod(count)\n",
        "    #static = staticmethod(static)\n",
        "\n",
        "a = Person()\n",
        "b = Person()\n"
      ],
      "execution_count": 0,
      "outputs": []
    },
    {
      "cell_type": "code",
      "metadata": {
        "id": "-AlxczzEwBUp",
        "colab_type": "code",
        "colab": {
          "base_uri": "https://localhost:8080/",
          "height": 34
        },
        "outputId": "4dd89338-722e-4c14-b2b2-a436a6bddde6"
      },
      "source": [
        "a.x"
      ],
      "execution_count": 48,
      "outputs": [
        {
          "output_type": "execute_result",
          "data": {
            "text/plain": [
              "0"
            ]
          },
          "metadata": {
            "tags": []
          },
          "execution_count": 48
        }
      ]
    },
    {
      "cell_type": "code",
      "metadata": {
        "id": "qTrsCiE8wDhk",
        "colab_type": "code",
        "colab": {
          "base_uri": "https://localhost:8080/",
          "height": 34
        },
        "outputId": "ff26f3b6-a583-4371-e74e-278bccaf2dc4"
      },
      "source": [
        "Person.count()"
      ],
      "execution_count": 49,
      "outputs": [
        {
          "output_type": "execute_result",
          "data": {
            "text/plain": [
              "('class method called', 1)"
            ]
          },
          "metadata": {
            "tags": []
          },
          "execution_count": 49
        }
      ]
    },
    {
      "cell_type": "code",
      "metadata": {
        "id": "-cW28uUkwFf4",
        "colab_type": "code",
        "colab": {
          "base_uri": "https://localhost:8080/",
          "height": 34
        },
        "outputId": "7a5dd0b3-4d09-4661-d17f-6e055dd1beb9"
      },
      "source": [
        "a.x"
      ],
      "execution_count": 50,
      "outputs": [
        {
          "output_type": "execute_result",
          "data": {
            "text/plain": [
              "1"
            ]
          },
          "metadata": {
            "tags": []
          },
          "execution_count": 50
        }
      ]
    },
    {
      "cell_type": "code",
      "metadata": {
        "id": "UMZlKjibyG7Q",
        "colab_type": "code",
        "colab": {
          "base_uri": "https://localhost:8080/",
          "height": 34
        },
        "outputId": "dca13894-34e5-45b4-c4f1-a9798fd89643"
      },
      "source": [
        "b.x"
      ],
      "execution_count": 44,
      "outputs": [
        {
          "output_type": "execute_result",
          "data": {
            "text/plain": [
              "1"
            ]
          },
          "metadata": {
            "tags": []
          },
          "execution_count": 44
        }
      ]
    },
    {
      "cell_type": "markdown",
      "metadata": {
        "id": "--M7-WJ1zUeN",
        "colab_type": "text"
      },
      "source": [
        "# Fonction dir, attribut __dict__ "
      ]
    },
    {
      "cell_type": "code",
      "metadata": {
        "id": "Mv6vgTovzvKS",
        "colab_type": "code",
        "colab": {}
      },
      "source": [
        "# Fonction dir (renvoi une lsite contenant les attributs et méthodes)\n",
        "\n",
        "\n"
      ],
      "execution_count": 0,
      "outputs": []
    },
    {
      "cell_type": "code",
      "metadata": {
        "id": "j_TIx6VJzzNR",
        "colab_type": "code",
        "colab": {}
      },
      "source": [
        " #attribut __dict__ (permet d'accéder aux attributs par un dictionnaire)\n",
        "\n",
        "\n",
        " "
      ],
      "execution_count": 0,
      "outputs": []
    },
    {
      "cell_type": "markdown",
      "metadata": {
        "id": "BXGP3_QP2Hyy",
        "colab_type": "text"
      },
      "source": [
        "#Petite exercice coder une savane\n",
        "\n",
        "<p align=\"center\">\n",
        "<a href=\"https://youtu.be/_J80GQoVT-4\" target=\"_blank\" ><img  src=\"https://lh3.googleusercontent.com/proxy/p1_D1wdmSrmfhpm3Ur_NsnntBjGRc3v7-7Vc_AKmbNwvHJv3TKNdx9E4JifkM-FFP02rY1ojajspssFflyqScPNkl5CHPGU2TwAPtl6_L8eKJoUW3ZmguAyYhB1JyHQHHQ\" width=\"400\" height=\"auto\"/></a>\n",
        "</p>\n"
      ]
    },
    {
      "cell_type": "code",
      "metadata": {
        "id": "YBI7BvxD2H63",
        "colab_type": "code",
        "colab": {}
      },
      "source": [
        ""
      ],
      "execution_count": 0,
      "outputs": []
    }
  ]
}